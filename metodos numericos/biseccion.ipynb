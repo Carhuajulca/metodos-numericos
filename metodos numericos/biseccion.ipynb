{
 "cells": [
  {
   "attachments": {},
   "cell_type": "markdown",
   "metadata": {},
   "source": [
    "<h2 style=\"text-align: center;\"> MÉTODO DE LA BISECCIÓN</h2>"
   ]
  },
  {
   "attachments": {},
   "cell_type": "markdown",
   "metadata": {},
   "source": [
    "La función del método de la bisección es econtrar la raiz de una ecuación y consiste en elegir un intervalo y luego ir diviviendo ese intervalo en mitades hasta dar con la raiz."
   ]
  },
  {
   "attachments": {},
   "cell_type": "markdown",
   "metadata": {},
   "source": [
    "<h3 style=\"text-decoration:underline;\">Procedimiento:</h3>\n",
    "<ul>\n",
    "   <li>Paso 1: punto medio</li> \n",
    "   <li>Paso 2: Evaluar funciones</li>\n",
    "   <li>Paso 3: Determinar el nuevo intervanlo</li>\n",
    "   <li>Paso 4: En la segunda iteración calcular el error</li>\n",
    "</ul>\n"
   ]
  },
  {
   "attachments": {},
   "cell_type": "markdown",
   "metadata": {},
   "source": [
    "EJERCICIO 1:"
   ]
  },
  {
   "attachments": {},
   "cell_type": "markdown",
   "metadata": {},
   "source": [
    "Dada  $f(x)=4x^2+5x$  y sabiendo que la raiz se encuttra en el intervalo (-1.6,1), encontrar u valor aproximado de la raiz  con un error de 0,01"
   ]
  },
  {
   "attachments": {},
   "cell_type": "markdown",
   "metadata": {},
   "source": [
    "datos:\n",
    "\n",
    "$f(x)=4x^2+5x$\n",
    " \n",
    "$(x_a,x_b)$ = (-1.6,1)\n",
    "\n",
    "$x_a$ = -1.6\n",
    "\n",
    "$x_b$= 1\n",
    "\n",
    "e = 0.01 = 1%\n"
   ]
  },
  {
   "attachments": {},
   "cell_type": "markdown",
   "metadata": {},
   "source": [
    "<h3 style=\"font-size: 20px;\">Paso 1: Punto medio</h3>\n",
    "Iteración 1"
   ]
  },
  {
   "attachments": {},
   "cell_type": "markdown",
   "metadata": {},
   "source": [
    "$x_m = \\dfrac{x_a + x_b }{2} = \\dfrac{-1.6+1}{2}=0.3$ "
   ]
  },
  {
   "attachments": {},
   "cell_type": "markdown",
   "metadata": {},
   "source": [
    "$x_m = 0.3$"
   ]
  },
  {
   "attachments": {},
   "cell_type": "markdown",
   "metadata": {},
   "source": [
    "<h3 style=\"font-size: 20px;\">Paso 2: Evaluación</h3>\n"
   ]
  },
  {
   "attachments": {},
   "cell_type": "markdown",
   "metadata": {},
   "source": [
    "$f(x_m)=f(0.3)=4(0.3)^2+5(0.3)=1.86$\n",
    "\n",
    "$f(X_a)*f(x_m)=(-1.6)(1.86)=-2.976, (-)$\n",
    "\n",
    "\n",
    "\n",
    "\n"
   ]
  },
  {
   "attachments": {},
   "cell_type": "markdown",
   "metadata": {},
   "source": [
    "<h3 style=\"font-size: 20px;\">Paso 3: Determinar el nuevo intervalo</h3>\n"
   ]
  },
  {
   "attachments": {},
   "cell_type": "markdown",
   "metadata": {},
   "source": [
    "$f(x_a)*f(x_m)<0, x_b=x_m$\n",
    "\n",
    "$[a, b]=[-1.6, 0.3]$"
   ]
  },
  {
   "attachments": {},
   "cell_type": "markdown",
   "metadata": {},
   "source": [
    "<h3 style=\"font-size: 20px;\">Paso 1: Punto medio</h3>\n",
    "Iteración 2"
   ]
  },
  {
   "attachments": {},
   "cell_type": "markdown",
   "metadata": {},
   "source": [
    "$x_m = \\dfrac{x_a + x_b }{2} = \\dfrac{-1.6+0.3}{2}=-0.65$ "
   ]
  },
  {
   "attachments": {},
   "cell_type": "markdown",
   "metadata": {},
   "source": [
    "$x_m = -0.65$"
   ]
  },
  {
   "attachments": {},
   "cell_type": "markdown",
   "metadata": {},
   "source": [
    "Aplicamos paso 4\n",
    "\n",
    "$E_p =\\dfrac{-0.65-03}{-0.65}*100 = 146$% "
   ]
  },
  {
   "attachments": {},
   "cell_type": "markdown",
   "metadata": {},
   "source": [
    "<h3 style=\"font-size: 20px;\">Paso 2: Evaluación</h3>"
   ]
  },
  {
   "attachments": {},
   "cell_type": "markdown",
   "metadata": {},
   "source": [
    "$f(x_m)=f(-0.65)=4(-0.65)^2+5(-0.65)=-1.56$\n",
    "\n",
    "$f(x_a)*f(x_m)=(-1.6)(-1.56)=2.496, (+)$\n",
    "\n"
   ]
  },
  {
   "attachments": {},
   "cell_type": "markdown",
   "metadata": {},
   "source": [
    "<h3 style=\"font-size: 20px;\">Paso 3: Determinar el nuevo intervalo</h3>\n"
   ]
  },
  {
   "attachments": {},
   "cell_type": "markdown",
   "metadata": {},
   "source": [
    "$f(x_a)*f(x_m)>0, x_a=x_m$\n",
    "\n",
    "$[a, b]=[2.49, 0.3]$\n",
    "\n",
    "Terminará cuando $E_p = 1$% de error"
   ]
  },
  {
   "cell_type": "code",
   "execution_count": 14,
   "metadata": {},
   "outputs": [],
   "source": [
    "from sympy  import *\n",
    "from sympy import sympify\n",
    "x = symbols('x')"
   ]
  },
  {
   "cell_type": "code",
   "execution_count": null,
   "metadata": {},
   "outputs": [],
   "source": [
    "def metodo_biseccion(f, a, b, tol,i):\n",
    "    pass"
   ]
  }
 ],
 "metadata": {
  "kernelspec": {
   "display_name": "Python 3",
   "language": "python",
   "name": "python3"
  },
  "language_info": {
   "codemirror_mode": {
    "name": "ipython",
    "version": 3
   },
   "file_extension": ".py",
   "mimetype": "text/x-python",
   "name": "python",
   "nbconvert_exporter": "python",
   "pygments_lexer": "ipython3",
   "version": "3.10.9"
  },
  "orig_nbformat": 4
 },
 "nbformat": 4,
 "nbformat_minor": 2
}
